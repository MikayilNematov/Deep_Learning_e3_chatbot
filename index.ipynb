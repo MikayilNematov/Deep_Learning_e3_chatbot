{
 "cells": [
  {
   "cell_type": "markdown",
   "id": "abff1380",
   "metadata": {},
   "source": [
    "Imports"
   ]
  },
  {
   "cell_type": "code",
   "execution_count": 7,
   "id": "03326139",
   "metadata": {},
   "outputs": [],
   "source": [
    "import os\n",
    "import re\n",
    "from sentence_transformers import SentenceTransformer\n",
    "import faiss\n",
    "import numpy as np"
   ]
  },
  {
   "cell_type": "markdown",
   "id": "c1895ed8",
   "metadata": {},
   "source": [
    "Laddar in modell"
   ]
  },
  {
   "cell_type": "code",
   "execution_count": 8,
   "id": "560c2412",
   "metadata": {},
   "outputs": [],
   "source": [
    "model = SentenceTransformer('sentence-transformers/all-MiniLM-L6-v2')"
   ]
  },
  {
   "cell_type": "markdown",
   "id": "f4cc3c3a",
   "metadata": {},
   "source": [
    "Bearbetar alla FAQ filer"
   ]
  },
  {
   "cell_type": "code",
   "execution_count": 9,
   "id": "ccb995d5",
   "metadata": {},
   "outputs": [],
   "source": [
    "faq_texts = []\n",
    "questions = []\n",
    "\n",
    "for filename in os.listdir('Data'):\n",
    "    if filename.endswith(\".txt\"):\n",
    "        with open(os.path.join('Data', filename), 'r', encoding='utf-8') as file:\n",
    "            content = file.read().strip()\n",
    "\n",
    "            match = re.search(r'FRÅGA:\\s*(.*?)\\n+ALTERNATIVA FRÅGOR:(.*?)\\n+SVAR:\\s*(.*)', content, re.DOTALL)\n",
    "            if match:\n",
    "                huvudfråga = match.group(1).strip()\n",
    "                alternativa = match.group(2).strip().split('\\n')\n",
    "                svar = match.group(3).strip()\n",
    "                alla_frågor = [huvudfråga] + [fråga.strip('- ').strip() for fråga in alternativa]\n",
    "\n",
    "                for fråga in alla_frågor:\n",
    "                    faq_texts.append(f\"FRÅGA: {fråga}\\nSVAR: {svar}\")\n",
    "                    questions.append(fråga)\n",
    "            else:\n",
    "                print(f\"Misslyckades att parsa: {filename}\")"
   ]
  },
  {
   "cell_type": "markdown",
   "id": "a35f2186",
   "metadata": {},
   "source": [
    "Sparar text_entries.txt (som sedan används av chattboten)"
   ]
  },
  {
   "cell_type": "code",
   "execution_count": 10,
   "id": "922051c0",
   "metadata": {},
   "outputs": [],
   "source": [
    "with open(\"Data/text_entries.txt\", \"w\", encoding=\"utf-8\") as f:\n",
    "    for entry in faq_texts:\n",
    "        f.write(entry + \"\\n<END>\\n\")"
   ]
  },
  {
   "cell_type": "markdown",
   "id": "8018b870",
   "metadata": {},
   "source": [
    "Skapar embeddings och FAISS-index"
   ]
  },
  {
   "cell_type": "code",
   "execution_count": 11,
   "id": "f9bf9033",
   "metadata": {},
   "outputs": [],
   "source": [
    "embeddings = model.encode(questions, normalize_embeddings=True)\n",
    "index = faiss.IndexFlatL2(embeddings.shape[1])\n",
    "index.add(np.array(embeddings))"
   ]
  },
  {
   "cell_type": "markdown",
   "id": "cab08a6d",
   "metadata": {},
   "source": [
    "Sparar FAISS-index"
   ]
  },
  {
   "cell_type": "code",
   "execution_count": 12,
   "id": "761d2b0f",
   "metadata": {},
   "outputs": [
    {
     "name": "stdout",
     "output_type": "stream",
     "text": [
      "Indexet har sparats som Data/faiss_index.index\n"
     ]
    }
   ],
   "source": [
    "faiss.write_index(index, \"Data/faiss_index.index\")\n",
    "print(\"Indexet har sparats som Data/faiss_index.index\")"
   ]
  }
 ],
 "metadata": {
  "kernelspec": {
   "display_name": "Python 3",
   "language": "python",
   "name": "python3"
  },
  "language_info": {
   "codemirror_mode": {
    "name": "ipython",
    "version": 3
   },
   "file_extension": ".py",
   "mimetype": "text/x-python",
   "name": "python",
   "nbconvert_exporter": "python",
   "pygments_lexer": "ipython3",
   "version": "3.11.8"
  }
 },
 "nbformat": 4,
 "nbformat_minor": 5
}
